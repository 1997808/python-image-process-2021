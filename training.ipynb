{
 "cells": [
  {
   "cell_type": "markdown",
   "metadata": {},
   "source": [
    "## Import Libraries"
   ]
  },
  {
   "cell_type": "code",
   "execution_count": 38,
   "metadata": {},
   "outputs": [],
   "source": [
    "import tensorflow\n",
    "from tensorflow.keras.models import Sequential\n",
    "from tensorflow.keras.layers import Conv2D\n",
    "from tensorflow.keras.layers import MaxPooling2D\n",
    "from tensorflow.keras.layers import Flatten\n",
    "from tensorflow.keras.layers import Dense, Dropout\n",
    "from tensorflow.keras.utils import to_categorical"
   ]
  },
  {
   "cell_type": "markdown",
   "metadata": {},
   "source": [
    "## CNN-2D Model"
   ]
  },
  {
   "cell_type": "code",
   "execution_count": 47,
   "metadata": {},
   "outputs": [
    {
     "name": "stdout",
     "output_type": "stream",
     "text": [
      "Found 42 images belonging to 5 classes.\n",
      "Found 10 images belonging to 5 classes.\n"
     ]
    }
   ],
   "source": [
    "# ImageDataGenerator generate batches of tensor image data with real-time data augmentation.\n",
    "from tensorflow.keras.preprocessing.image import ImageDataGenerator\n",
    "\n",
    "train_datagen = ImageDataGenerator(rescale = 1./255,\n",
    "                                   shear_range = 0.2,\n",
    "                                   zoom_range = 0.2,\n",
    "                                   horizontal_flip = True)\n",
    "test_datagen = ImageDataGenerator(rescale = 1./255)\n",
    "\n",
    "training_set = train_datagen.flow_from_directory('F:/School/fruits_data/our-data/training',\n",
    "                                                 target_size = (64, 64),\n",
    "                                                 batch_size = 16,\n",
    "                                                 class_mode='binary', \n",
    "                                                 )\n",
    "\n",
    "test_set = test_datagen.flow_from_directory('F:/School/fruits_data/our-data/validation',\n",
    "                                            target_size = (64, 64),\n",
    "                                            batch_size = 16,\n",
    "                                            class_mode='binary'\n",
    "                                            )"
   ]
  },
  {
   "cell_type": "code",
   "execution_count": 48,
   "metadata": {},
   "outputs": [
    {
     "data": {
      "text/plain": [
       "{'apple_6': 0,\n",
       " 'cabbage_white_1': 1,\n",
       " 'carrot_1': 2,\n",
       " 'cucumber_1': 3,\n",
       " 'eggplant_violet_1': 4}"
      ]
     },
     "execution_count": 48,
     "metadata": {},
     "output_type": "execute_result"
    }
   ],
   "source": [
    "training_set.class_indices"
   ]
  },
  {
   "cell_type": "code",
   "execution_count": 1,
   "metadata": {},
   "outputs": [
    {
     "ename": "NameError",
     "evalue": "name 'Sequential' is not defined",
     "output_type": "error",
     "traceback": [
      "\u001b[1;31m---------------------------------------------------------------------------\u001b[0m",
      "\u001b[1;31mNameError\u001b[0m                                 Traceback (most recent call last)",
      "\u001b[1;32m<ipython-input-1-676ec6c3de92>\u001b[0m in \u001b[0;36m<module>\u001b[1;34m\u001b[0m\n\u001b[0;32m      1\u001b[0m \u001b[1;31m# Initialising the CNN\u001b[0m\u001b[1;33m\u001b[0m\u001b[1;33m\u001b[0m\u001b[1;33m\u001b[0m\u001b[0m\n\u001b[1;32m----> 2\u001b[1;33m \u001b[0mmodel\u001b[0m \u001b[1;33m=\u001b[0m \u001b[0mSequential\u001b[0m\u001b[1;33m(\u001b[0m\u001b[1;33m)\u001b[0m\u001b[1;33m\u001b[0m\u001b[1;33m\u001b[0m\u001b[0m\n\u001b[0m\u001b[0;32m      3\u001b[0m \u001b[1;33m\u001b[0m\u001b[0m\n\u001b[0;32m      4\u001b[0m \u001b[1;31m# Convolution\u001b[0m\u001b[1;33m\u001b[0m\u001b[1;33m\u001b[0m\u001b[1;33m\u001b[0m\u001b[0m\n\u001b[0;32m      5\u001b[0m \u001b[0mmodel\u001b[0m\u001b[1;33m.\u001b[0m\u001b[0madd\u001b[0m\u001b[1;33m(\u001b[0m\u001b[0mConv2D\u001b[0m\u001b[1;33m(\u001b[0m\u001b[1;36m32\u001b[0m\u001b[1;33m,\u001b[0m \u001b[1;33m(\u001b[0m\u001b[1;36m3\u001b[0m\u001b[1;33m,\u001b[0m \u001b[1;36m3\u001b[0m\u001b[1;33m)\u001b[0m\u001b[1;33m,\u001b[0m \u001b[0minput_shape\u001b[0m \u001b[1;33m=\u001b[0m \u001b[1;33m(\u001b[0m\u001b[1;36m64\u001b[0m\u001b[1;33m,\u001b[0m \u001b[1;36m64\u001b[0m\u001b[1;33m,\u001b[0m \u001b[1;36m3\u001b[0m\u001b[1;33m)\u001b[0m\u001b[1;33m,\u001b[0m \u001b[0mactivation\u001b[0m \u001b[1;33m=\u001b[0m \u001b[1;34m'relu'\u001b[0m\u001b[1;33m)\u001b[0m\u001b[1;33m)\u001b[0m\u001b[1;33m\u001b[0m\u001b[1;33m\u001b[0m\u001b[0m\n",
      "\u001b[1;31mNameError\u001b[0m: name 'Sequential' is not defined"
     ]
    }
   ],
   "source": [
    "# Initialising the CNN\n",
    "model = Sequential()\n",
    "\n",
    "# Convolution\n",
    "model.add(Conv2D(32, (3, 3), input_shape = (64, 64, 3), activation = 'relu'))\n",
    "\n",
    "# Pooling\n",
    "model.add(MaxPooling2D(pool_size = (2, 2)))\n",
    "\n",
    "# Convolution\n",
    "model.add(Conv2D(32, (3, 3), input_shape = (64, 64, 3), activation = 'relu'))\n",
    "\n",
    "# Pooling\n",
    "model.add(MaxPooling2D(pool_size = (2, 2)))\n",
    "\n",
    "# Convolution\n",
    "model.add(Conv2D(32, (3, 3), input_shape = (64, 64, 3), activation = 'relu'))\n",
    "\n",
    "# Pooling\n",
    "model.add(MaxPooling2D(pool_size = (2, 2)))\n",
    "\n",
    "# Flattening\n",
    "model.add(Flatten())\n",
    "\n",
    "# Full connection\n",
    "model.add(Dense(units = 512, activation = 'relu'))\n",
    "\n",
    "# Add Dropout to prevent overfitting\n",
    "# model.add(Dropout(0.5))\n",
    "\n",
    "model.add(Dense(units = 128, activation = 'relu'))\n",
    "\n",
    "model.add(Dense(units = 5, activation = 'softmax'))\n",
    "\n",
    "# Compiling the CNN\n",
    "model.compile(optimizer = 'adam', loss = 'sparse_categorical_crossentropy', metrics = ['accuracy'])\n",
    "model.summary()"
   ]
  },
  {
   "cell_type": "code",
   "execution_count": 50,
   "metadata": {},
   "outputs": [],
   "source": [
    "##from tensorflow.keras.callbacks import EarlyStopping\n",
    "#early_stop = EarlyStopping(monitor='val_loss', mode='min', verbose=1, patience=4)"
   ]
  },
  {
   "cell_type": "code",
   "execution_count": 51,
   "metadata": {},
   "outputs": [
    {
     "name": "stdout",
     "output_type": "stream",
     "text": [
      "Epoch 1/30\n",
      "2/3 [===================>..........] - ETA: 0s - loss: 1.6465 - accuracy: 0.2692"
     ]
    },
    {
     "name": "stderr",
     "output_type": "stream",
     "text": [
      "C:\\Users\\khanh\\anaconda3\\lib\\site-packages\\PIL\\Image.py:962: UserWarning: Palette images with Transparency expressed in bytes should be converted to RGBA images\n",
      "  warnings.warn(\n"
     ]
    },
    {
     "name": "stdout",
     "output_type": "stream",
     "text": [
      "3/3 [==============================] - 1s 276ms/step - loss: 1.6498 - accuracy: 0.2381 - val_loss: 1.5401 - val_accuracy: 0.6000\n",
      "Epoch 2/30\n",
      "3/3 [==============================] - 0s 157ms/step - loss: 1.5374 - accuracy: 0.3810 - val_loss: 1.4712 - val_accuracy: 0.3000\n",
      "Epoch 3/30\n",
      "3/3 [==============================] - 0s 120ms/step - loss: 1.4332 - accuracy: 0.5714 - val_loss: 1.2811 - val_accuracy: 0.7000\n",
      "Epoch 4/30\n",
      "3/3 [==============================] - 0s 149ms/step - loss: 1.2076 - accuracy: 0.6667 - val_loss: 1.0701 - val_accuracy: 0.6000\n",
      "Epoch 5/30\n",
      "3/3 [==============================] - 0s 140ms/step - loss: 0.9803 - accuracy: 0.6190 - val_loss: 1.3716 - val_accuracy: 0.5000\n",
      "Epoch 6/30\n",
      "3/3 [==============================] - 0s 151ms/step - loss: 0.8959 - accuracy: 0.6905 - val_loss: 0.9375 - val_accuracy: 0.7000\n",
      "Epoch 7/30\n",
      "3/3 [==============================] - 0s 135ms/step - loss: 0.8076 - accuracy: 0.7381 - val_loss: 1.2433 - val_accuracy: 0.6000\n",
      "Epoch 8/30\n",
      "3/3 [==============================] - 0s 127ms/step - loss: 0.7996 - accuracy: 0.7381 - val_loss: 0.8228 - val_accuracy: 0.8000\n",
      "Epoch 9/30\n",
      "3/3 [==============================] - 0s 131ms/step - loss: 0.6201 - accuracy: 0.8095 - val_loss: 0.9837 - val_accuracy: 0.7000\n",
      "Epoch 10/30\n",
      "3/3 [==============================] - 0s 126ms/step - loss: 0.5416 - accuracy: 0.7857 - val_loss: 1.0920 - val_accuracy: 0.6000\n",
      "Epoch 11/30\n",
      "3/3 [==============================] - 0s 127ms/step - loss: 0.5705 - accuracy: 0.7381 - val_loss: 0.9356 - val_accuracy: 0.7000\n",
      "Epoch 12/30\n",
      "3/3 [==============================] - 0s 127ms/step - loss: 0.4272 - accuracy: 0.8333 - val_loss: 0.9142 - val_accuracy: 0.7000\n",
      "Epoch 13/30\n",
      "3/3 [==============================] - 0s 132ms/step - loss: 0.4584 - accuracy: 0.8095 - val_loss: 0.7510 - val_accuracy: 0.8000\n",
      "Epoch 14/30\n",
      "3/3 [==============================] - 0s 154ms/step - loss: 0.3886 - accuracy: 0.8571 - val_loss: 0.7343 - val_accuracy: 0.7000\n",
      "Epoch 15/30\n",
      "3/3 [==============================] - 0s 153ms/step - loss: 0.4982 - accuracy: 0.8571 - val_loss: 0.8684 - val_accuracy: 0.7000\n",
      "Epoch 16/30\n",
      "3/3 [==============================] - 0s 121ms/step - loss: 0.3159 - accuracy: 0.8571 - val_loss: 0.8297 - val_accuracy: 0.5000\n",
      "Epoch 17/30\n",
      "3/3 [==============================] - 0s 162ms/step - loss: 0.3880 - accuracy: 0.8333 - val_loss: 0.4950 - val_accuracy: 0.7000\n",
      "Epoch 18/30\n",
      "3/3 [==============================] - 0s 132ms/step - loss: 0.3941 - accuracy: 0.8810 - val_loss: 0.7934 - val_accuracy: 0.7000\n",
      "Epoch 19/30\n",
      "3/3 [==============================] - 0s 133ms/step - loss: 0.2223 - accuracy: 0.9524 - val_loss: 0.5980 - val_accuracy: 0.8000\n",
      "Epoch 20/30\n",
      "3/3 [==============================] - 0s 120ms/step - loss: 0.2446 - accuracy: 0.9286 - val_loss: 0.5683 - val_accuracy: 0.8000\n",
      "Epoch 21/30\n",
      "3/3 [==============================] - 0s 130ms/step - loss: 0.1544 - accuracy: 0.9524 - val_loss: 0.8055 - val_accuracy: 0.8000\n",
      "Epoch 22/30\n",
      "3/3 [==============================] - 0s 127ms/step - loss: 0.2009 - accuracy: 0.9048 - val_loss: 0.6155 - val_accuracy: 0.8000\n",
      "Epoch 23/30\n",
      "3/3 [==============================] - 0s 139ms/step - loss: 0.1888 - accuracy: 0.9524 - val_loss: 0.3734 - val_accuracy: 0.9000\n",
      "Epoch 24/30\n",
      "3/3 [==============================] - 0s 127ms/step - loss: 0.1650 - accuracy: 0.9524 - val_loss: 0.6050 - val_accuracy: 0.8000\n",
      "Epoch 25/30\n",
      "3/3 [==============================] - 0s 134ms/step - loss: 0.1239 - accuracy: 0.9524 - val_loss: 0.5848 - val_accuracy: 0.8000\n",
      "Epoch 26/30\n",
      "3/3 [==============================] - 0s 151ms/step - loss: 0.0863 - accuracy: 1.0000 - val_loss: 0.3498 - val_accuracy: 0.9000\n",
      "Epoch 27/30\n",
      "3/3 [==============================] - 0s 125ms/step - loss: 0.0798 - accuracy: 0.9762 - val_loss: 0.3146 - val_accuracy: 0.9000\n",
      "Epoch 28/30\n",
      "3/3 [==============================] - 0s 116ms/step - loss: 0.0449 - accuracy: 1.0000 - val_loss: 0.4659 - val_accuracy: 0.8000\n",
      "Epoch 29/30\n",
      "3/3 [==============================] - 0s 117ms/step - loss: 0.0761 - accuracy: 0.9762 - val_loss: 0.7746 - val_accuracy: 0.8000\n",
      "Epoch 30/30\n",
      "3/3 [==============================] - 0s 129ms/step - loss: 0.0780 - accuracy: 1.0000 - val_loss: 0.5559 - val_accuracy: 0.7000\n"
     ]
    }
   ],
   "source": [
    "# Fitting the model\n",
    "classifier = model.fit(training_set,\n",
    "                         #steps_per_epoch = 250,\n",
    "                         epochs = 30,\n",
    "                         validation_data = test_set,    \n",
    "                         #validation_steps = 50,\n",
    "                         #callbacks=[early_stop]\n",
    "                         )"
   ]
  },
  {
   "cell_type": "code",
   "execution_count": 52,
   "metadata": {},
   "outputs": [
    {
     "name": "stdout",
     "output_type": "stream",
     "text": [
      "Saved model to disk\n"
     ]
    }
   ],
   "source": [
    "# save the model\n",
    "model.save(\"model.h5\")\n",
    "print(\"Saved model to disk\")"
   ]
  },
  {
   "cell_type": "markdown",
   "metadata": {},
   "source": [
    "## Loss & Accuracy Graph (Training and Test)"
   ]
  },
  {
   "cell_type": "code",
   "execution_count": 53,
   "metadata": {},
   "outputs": [
    {
     "data": {
      "text/plain": [
       "<matplotlib.legend.Legend at 0x2092bb06bb0>"
      ]
     },
     "execution_count": 53,
     "metadata": {},
     "output_type": "execute_result"
    },
    {
     "data": {
      "image/png": "[encoded data removed]",
      "text/plain": [
       "<Figure size 432x288 with 1 Axes>"
      ]
     },
     "metadata": {
      "needs_background": "light"
     },
     "output_type": "display_data"
    }
   ],
   "source": [
    "import matplotlib.pyplot as plt\n",
    "import numpy as np\n",
    "\n",
    "# 8. Vẽ đồ thị loss, accuracy của traning set và validation set\n",
    "fig = plt.figure()\n",
    "numOfEpoch = 30\n",
    "plt.plot(np.arange(0, numOfEpoch), classifier.history['loss'], label='training loss')\n",
    "plt.plot(np.arange(0, numOfEpoch), classifier.history['val_loss'], label='validation loss')\n",
    "plt.plot(np.arange(0, numOfEpoch), classifier.history['accuracy'], label='accuracy')\n",
    "plt.plot(np.arange(0, numOfEpoch), classifier.history['val_accuracy'], label='validation accuracy')\n",
    "plt.title('Accuracy and Loss')\n",
    "plt.xlabel('Epoch')\n",
    "plt.ylabel('Loss|Accuracy')\n",
    "plt.legend()"
   ]
  },
  {
   "cell_type": "code",
   "execution_count": null,
   "metadata": {},
   "outputs": [],
   "source": []
  }
 ],
 "metadata": {
  "kernelspec": {
   "display_name": "Python 3",
   "language": "python",
   "name": "python3"
  },
  "language_info": {
   "codemirror_mode": {
    "name": "ipython",
    "version": 3
   },
   "file_extension": ".py",
   "mimetype": "text/x-python",
   "name": "python",
   "nbconvert_exporter": "python",
   "pygments_lexer": "ipython3",
   "version": "3.8.8"
  }
 },
 "nbformat": 4,
 "nbformat_minor": 4
}
