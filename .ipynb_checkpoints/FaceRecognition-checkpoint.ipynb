{
 "cells": [
  {
   "cell_type": "code",
   "execution_count": 9,
   "id": "f76f1738",
   "metadata": {},
   "outputs": [],
   "source": [
    "import cv2\n",
    "import os\n",
    "import numpy as np\n",
    "\n",
    "path = os.path.dirname(os.path.abspath(\"C:/Users/XPS 9365/Documents/ImageProcessing_Python/Face-Recognition-master/\"))\n",
    "\n",
    "cam = cv2.VideoCapture(0)\n",
    "detector= cv2.CascadeClassifier('haarcascade_frontalface_default.xml')\n",
    "i=0\n",
    "offset=50\n",
    "name=\"Tien\"\n",
    "while True:\n",
    "    ret, im =cam.read()\n",
    "    gray = cv2.cvtColor(im, cv2.COLOR_BGR2GRAY)\n",
    "    gray = np.array(gray, dtype='uint8')\n",
    "    # Detect the faces\n",
    "    faces = detector.detectMultiScale(gray, 1.1, 4)\n",
    "    for(x,y,w,h) in faces:\n",
    "        i=i+1\n",
    "        cv2.imwrite(\"dataSet/face-\"+name +'.'+ str(i) + \".jpg\", gray[y-offset:y+h+offset,x-offset:x+w+offset])\n",
    "        cv2.rectangle(im,(x-50,y-50),(x+w+50,y+h+50),(225,0,0),2)\n",
    "        cv2.imshow('im',im[y-offset:y+h+offset,x-offset:x+w+offset])\n",
    "        cv2.waitKey(100)\n",
    "    if i>20:\n",
    "        cam.release()\n",
    "        cv2.destroyAllWindows()\n",
    "        break\n"
   ]
  },
  {
   "cell_type": "code",
   "execution_count": 8,
   "id": "c290689f",
   "metadata": {},
   "outputs": [],
   "source": [
    "import cv2,os\n",
    "import numpy as np\n",
    "from PIL import Image \n",
    "\n",
    "path = os.path.dirname(os.path.abspath(\"C:/Users/XPS 9365/Documents/ImageProcessing_Python/Face-Recognition-master/dataSet\"))\n",
    "recognizer = cv2.face.LBPHFaceRecognizer_create()\n",
    "cascadePath = path+r\"\\Classifiers\\face.xml\"\n",
    "faceCascade = cv2.CascadeClassifier(cascadePath);\n",
    "dataPath = path+r'\\dataSet'\n",
    "\n",
    "def getImagesAndLabels(path):\n",
    "    #get the path of all the files in the folder\n",
    "    imagePaths=[os.path.join(path,f) for f in os.listdir(path)] \n",
    "    #create empth face list\n",
    "    faceSamples=[]\n",
    "    #create empty ID list\n",
    "    Ids=[]\n",
    "    #now looping through all the image paths and loading the Ids and the images\n",
    "    for imagePath in imagePaths:\n",
    "        #loading the image and converting it to gray scale\n",
    "        pilImage=Image.open(imagePath).convert('L')\n",
    "        #Now we are converting the PIL image into numpy array\n",
    "        imageNp=np.array(pilImage,'uint8')\n",
    "        #getting the Id from the image\n",
    "        Id=int(os.path.split(imagePath)[-1].split(\".\")[1])\n",
    "        # extract the face from the training image sample\n",
    "        faces=faceCascade.detectMultiScale(imageNp)\n",
    "        #If a face is there then append that in the list as well as Id of it\n",
    "        for (x,y,w,h) in faces:\n",
    "            faceSamples.append(imageNp[y:y+h,x:x+w])\n",
    "            Ids.append(Id)\n",
    "    return faceSamples,Ids\n",
    "\n",
    "images, labels = getImagesAndLabels(dataPath)\n",
    "#cv2.imshow('test',images[0])\n",
    "#cv2.waitKey(1)\n",
    "\n",
    "recognizer.train(images, np.array(labels))\n",
    "recognizer.save(path+r'\\trainer.yml')\n",
    "cv2.destroyAllWindows()"
   ]
  },
  {
   "cell_type": "code",
   "execution_count": 4,
   "id": "ebefc855",
   "metadata": {},
   "outputs": [],
   "source": [
    "images, labels = getImagesAndLabels(dataPath)\n",
    "cv2.imshow('test',images[0])\n",
    "cv2.waitKey(1)\n",
    "\n",
    "recognizer.train(images, np.array(labels))\n",
    "recognizer.save(path+r'\\trainer.yml')\n",
    "cv2.destroyAllWindows()"
   ]
  },
  {
   "cell_type": "code",
   "execution_count": 3,
   "id": "86e90796",
   "metadata": {},
   "outputs": [
    {
     "ename": "error",
     "evalue": "OpenCV(4.5.3) C:\\Users\\runneradmin\\AppData\\Local\\Temp\\pip-req-build-u4kjpz2z\\opencv\\modules\\imgproc\\src\\color.cpp:182: error: (-215:Assertion failed) !_src.empty() in function 'cv::cvtColor'\n",
     "output_type": "error",
     "traceback": [
      "\u001b[1;31m---------------------------------------------------------------------------\u001b[0m",
      "\u001b[1;31merror\u001b[0m                                     Traceback (most recent call last)",
      "\u001b[1;32m<ipython-input-3-6ea032e026f5>\u001b[0m in \u001b[0;36m<module>\u001b[1;34m\u001b[0m\n\u001b[0;32m     15\u001b[0m \u001b[1;32mwhile\u001b[0m \u001b[1;32mTrue\u001b[0m\u001b[1;33m:\u001b[0m\u001b[1;33m\u001b[0m\u001b[1;33m\u001b[0m\u001b[0m\n\u001b[0;32m     16\u001b[0m     \u001b[0mret\u001b[0m\u001b[1;33m,\u001b[0m \u001b[0mim\u001b[0m \u001b[1;33m=\u001b[0m\u001b[0mcam\u001b[0m\u001b[1;33m.\u001b[0m\u001b[0mread\u001b[0m\u001b[1;33m(\u001b[0m\u001b[1;33m)\u001b[0m\u001b[1;33m\u001b[0m\u001b[1;33m\u001b[0m\u001b[0m\n\u001b[1;32m---> 17\u001b[1;33m     \u001b[0mgray\u001b[0m\u001b[1;33m=\u001b[0m\u001b[0mcv2\u001b[0m\u001b[1;33m.\u001b[0m\u001b[0mcvtColor\u001b[0m\u001b[1;33m(\u001b[0m\u001b[0mim\u001b[0m\u001b[1;33m,\u001b[0m\u001b[0mcv2\u001b[0m\u001b[1;33m.\u001b[0m\u001b[0mCOLOR_BGR2GRAY\u001b[0m\u001b[1;33m)\u001b[0m\u001b[1;33m\u001b[0m\u001b[1;33m\u001b[0m\u001b[0m\n\u001b[0m\u001b[0;32m     18\u001b[0m     \u001b[0mfaces\u001b[0m\u001b[1;33m=\u001b[0m\u001b[0mfaceCascade\u001b[0m\u001b[1;33m.\u001b[0m\u001b[0mdetectMultiScale\u001b[0m\u001b[1;33m(\u001b[0m\u001b[0mgray\u001b[0m\u001b[1;33m,\u001b[0m \u001b[0mscaleFactor\u001b[0m\u001b[1;33m=\u001b[0m\u001b[1;36m1.2\u001b[0m\u001b[1;33m,\u001b[0m \u001b[0mminNeighbors\u001b[0m\u001b[1;33m=\u001b[0m\u001b[1;36m5\u001b[0m\u001b[1;33m,\u001b[0m \u001b[0mminSize\u001b[0m\u001b[1;33m=\u001b[0m\u001b[1;33m(\u001b[0m\u001b[1;36m100\u001b[0m\u001b[1;33m,\u001b[0m \u001b[1;36m100\u001b[0m\u001b[1;33m)\u001b[0m\u001b[1;33m,\u001b[0m \u001b[0mflags\u001b[0m\u001b[1;33m=\u001b[0m\u001b[0mcv2\u001b[0m\u001b[1;33m.\u001b[0m\u001b[0mCASCADE_SCALE_IMAGE\u001b[0m\u001b[1;33m)\u001b[0m\u001b[1;33m\u001b[0m\u001b[1;33m\u001b[0m\u001b[0m\n\u001b[0;32m     19\u001b[0m     \u001b[1;32mfor\u001b[0m\u001b[1;33m(\u001b[0m\u001b[0mx\u001b[0m\u001b[1;33m,\u001b[0m\u001b[0my\u001b[0m\u001b[1;33m,\u001b[0m\u001b[0mw\u001b[0m\u001b[1;33m,\u001b[0m\u001b[0mh\u001b[0m\u001b[1;33m)\u001b[0m \u001b[1;32min\u001b[0m \u001b[0mfaces\u001b[0m\u001b[1;33m:\u001b[0m\u001b[1;33m\u001b[0m\u001b[1;33m\u001b[0m\u001b[0m\n",
      "\u001b[1;31merror\u001b[0m: OpenCV(4.5.3) C:\\Users\\runneradmin\\AppData\\Local\\Temp\\pip-req-build-u4kjpz2z\\opencv\\modules\\imgproc\\src\\color.cpp:182: error: (-215:Assertion failed) !_src.empty() in function 'cv::cvtColor'\n"
     ]
    }
   ],
   "source": [
    "import cv2,os\n",
    "import numpy as np\n",
    "from PIL import Image \n",
    "\n",
    "path = os.path.dirname(os.path.abspath(\"C:/Users/XPS 9365/Documents/ImageProcessing_Python/Face-Recognition-master/dataSet\"))\n",
    "\n",
    "recognizer = cv2.face.LBPHFaceRecognizer_create()\n",
    "#recognizer.read(path+r'\\trainer\\trainer.yml')\n",
    "faceCascade= cv2.CascadeClassifier('haarcascade_frontalface_default.xml')\n",
    "\n",
    "cam = cv2.VideoCapture(0)\n",
    "font = cv2.FONT_HERSHEY_SIMPLEX #Creates a font\n",
    "while True:\n",
    "    ret, im =cam.read()\n",
    "    gray=cv2.cvtColor(im,cv2.COLOR_BGR2GRAY)\n",
    "    faces=faceCascade.detectMultiScale(gray, scaleFactor=1.2, minNeighbors=5, minSize=(100, 100), flags=cv2.CASCADE_SCALE_IMAGE)\n",
    "    for(x,y,w,h) in faces:\n",
    "        nbr_predicted, conf = recognizer.predict(gray[y:y+h,x:x+w])\n",
    "        cv2.rectangle(im,(x-50,y-50),(x+w+50,y+h+50),(225,0,0),2)\n",
    "        if(nbr_predicted==7):\n",
    "             nbr_predicted='Another'\n",
    "        elif(nbr_predicted==2):\n",
    "             nbr_predicted='Tien'\n",
    "        cv2.putText(im,str(nbr_predicted)+\"--\"+str(conf), (x,y+h),font, 1.1, (0,255,0)) #Draw the text\n",
    "        cv2.imshow('im',im)\n",
    "        if cv2.waitKey(10) == ord('a'):\n",
    "            cam.release()\n",
    "            cv2.destroyAllWindows()\n"
   ]
  },
  {
   "cell_type": "code",
   "execution_count": null,
   "id": "94ebc449",
   "metadata": {},
   "outputs": [],
   "source": []
  }
 ],
 "metadata": {
  "kernelspec": {
   "display_name": "Python 3",
   "language": "python",
   "name": "python3"
  },
  "language_info": {
   "codemirror_mode": {
    "name": "ipython",
    "version": 3
   },
   "file_extension": ".py",
   "mimetype": "text/x-python",
   "name": "python",
   "nbconvert_exporter": "python",
   "pygments_lexer": "ipython3",
   "version": "3.8.8"
  }
 },
 "nbformat": 4,
 "nbformat_minor": 5
}
