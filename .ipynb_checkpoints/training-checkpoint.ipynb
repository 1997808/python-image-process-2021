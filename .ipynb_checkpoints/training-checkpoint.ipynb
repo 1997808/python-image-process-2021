{
 "cells": [
  {
   "cell_type": "markdown",
   "metadata": {},
   "source": [
    "## Import Libraries"
   ]
  },
  {
   "cell_type": "code",
   "execution_count": 82,
   "metadata": {},
   "outputs": [],
   "source": [
    "import tensorflow\n",
    "from tensorflow.keras.models import Sequential\n",
    "from tensorflow.keras.layers import Conv2D\n",
    "from tensorflow.keras.layers import MaxPooling2D\n",
    "from tensorflow.keras.layers import Flatten\n",
    "from tensorflow.keras.layers import Dense, Dropout\n",
    "from tensorflow.keras.utils import to_categorical"
   ]
  },
  {
   "cell_type": "markdown",
   "metadata": {},
   "source": [
    "## CNN-2D Model"
   ]
  },
  {
   "cell_type": "code",
   "execution_count": 83,
   "metadata": {},
   "outputs": [
    {
     "name": "stdout",
     "output_type": "stream",
     "text": [
      "Found 80 images belonging to 2 classes.\n",
      "Found 80 images belonging to 2 classes.\n"
     ]
    }
   ],
   "source": [
    "# ImageDataGenerator generate batches of tensor image data with real-time data augmentation.\n",
    "from tensorflow.keras.preprocessing.image import ImageDataGenerator\n",
    "\n",
    "train_datagen = ImageDataGenerator(rescale = 1./255,\n",
    "                                   shear_range = 0.2,\n",
    "                                   zoom_range = 0.2,\n",
    "                                   horizontal_flip = True)\n",
    "test_datagen = ImageDataGenerator(rescale = 1./255)\n",
    "\n",
    "training_set = train_datagen.flow_from_directory('E:/PythonProjects/fruit-dataset/training',\n",
    "                                                 target_size = (64, 64),\n",
    "                                                 batch_size = 32,\n",
    "                                                 class_mode='binary', \n",
    "                                                 )\n",
    "\n",
    "test_set = test_datagen.flow_from_directory('E:/PythonProjects/fruit-dataset/validation',\n",
    "                                            target_size = (64, 64),\n",
    "                                            batch_size = 32,\n",
    "                                            class_mode='binary'\n",
    "                                            )"
   ]
  },
  {
   "cell_type": "code",
   "execution_count": 84,
   "metadata": {},
   "outputs": [
    {
     "data": {
      "text/plain": [
       "{'cat': 0, 'dog': 1}"
      ]
     },
     "execution_count": 84,
     "metadata": {},
     "output_type": "execute_result"
    }
   ],
   "source": [
    "training_set.class_indices"
   ]
  },
  {
   "cell_type": "code",
   "execution_count": 85,
   "metadata": {},
   "outputs": [
    {
     "name": "stdout",
     "output_type": "stream",
     "text": [
      "Model: \"sequential_11\"\n",
      "_________________________________________________________________\n",
      " Layer (type)                Output Shape              Param #   \n",
      "=================================================================\n",
      " conv2d_22 (Conv2D)          (None, 62, 62, 32)        896       \n",
      "                                                                 \n",
      " max_pooling2d_11 (MaxPoolin  (None, 31, 31, 32)       0         \n",
      " g2D)                                                            \n",
      "                                                                 \n",
      " conv2d_23 (Conv2D)          (None, 29, 29, 32)        9248      \n",
      "                                                                 \n",
      " flatten_11 (Flatten)        (None, 26912)             0         \n",
      "                                                                 \n",
      " dense_33 (Dense)            (None, 256)               6889728   \n",
      "                                                                 \n",
      " dropout_11 (Dropout)        (None, 256)               0         \n",
      "                                                                 \n",
      " dense_34 (Dense)            (None, 128)               32896     \n",
      "                                                                 \n",
      " dense_35 (Dense)            (None, 6)                 774       \n",
      "                                                                 \n",
      "=================================================================\n",
      "Total params: 6,933,542\n",
      "Trainable params: 6,933,542\n",
      "Non-trainable params: 0\n",
      "_________________________________________________________________\n"
     ]
    }
   ],
   "source": [
    "# Initialising the CNN\n",
    "model = Sequential()\n",
    "\n",
    "# Convolution\n",
    "model.add(Conv2D(32, (3, 3), input_shape = (64, 64, 3), activation = 'relu'))\n",
    "\n",
    "# Pooling\n",
    "model.add(MaxPooling2D(pool_size = (2, 2)))\n",
    "\n",
    "# Convolution\n",
    "model.add(Conv2D(32, (3, 3), input_shape = (64, 64, 3), activation = 'relu'))\n",
    "\n",
    "# Flattening\n",
    "model.add(Flatten())\n",
    "\n",
    "# Full connection\n",
    "model.add(Dense(units = 256, activation = 'relu'))\n",
    "\n",
    "# Add Dropout to prevent overfitting\n",
    "model.add(Dropout(0.5))\n",
    "\n",
    "model.add(Dense(units = 128, activation = 'relu'))\n",
    "\n",
    "model.add(Dense(units = 8, activation = 'softmax'))\n",
    "\n",
    "# Compiling the CNN\n",
    "model.compile(optimizer = 'adam', loss = 'sparse_categorical_crossentropy', metrics = ['accuracy'])\n",
    "model.summary()"
   ]
  },
  {
   "cell_type": "code",
   "execution_count": 86,
   "metadata": {},
   "outputs": [],
   "source": [
    "##from tensorflow.keras.callbacks import EarlyStopping\n",
    "#early_stop = EarlyStopping(monitor='val_loss', mode='min', verbose=1, patience=4)"
   ]
  },
  {
   "cell_type": "code",
   "execution_count": 87,
   "metadata": {},
   "outputs": [
    {
     "name": "stdout",
     "output_type": "stream",
     "text": [
      "Epoch 1/40\n",
      "3/3 [==============================] - 2s 667ms/step - loss: 1.5397 - accuracy: 0.3875 - val_loss: 0.9777 - val_accuracy: 0.5000\n",
      "Epoch 2/40\n",
      "3/3 [==============================] - 1s 433ms/step - loss: 1.1658 - accuracy: 0.4750 - val_loss: 0.9173 - val_accuracy: 0.5000\n",
      "Epoch 3/40\n",
      "3/3 [==============================] - 1s 413ms/step - loss: 0.7765 - accuracy: 0.4875 - val_loss: 0.8100 - val_accuracy: 0.5000\n",
      "Epoch 4/40\n",
      "3/3 [==============================] - 1s 422ms/step - loss: 0.8179 - accuracy: 0.5125 - val_loss: 0.7981 - val_accuracy: 0.5000\n",
      "Epoch 5/40\n",
      "3/3 [==============================] - 1s 354ms/step - loss: 0.7701 - accuracy: 0.5250 - val_loss: 0.7123 - val_accuracy: 0.6000\n",
      "Epoch 6/40\n",
      "3/3 [==============================] - 1s 378ms/step - loss: 0.7057 - accuracy: 0.6000 - val_loss: 0.7498 - val_accuracy: 0.5000\n",
      "Epoch 7/40\n",
      "3/3 [==============================] - 1s 338ms/step - loss: 0.6952 - accuracy: 0.5500 - val_loss: 0.7776 - val_accuracy: 0.5000\n",
      "Epoch 8/40\n",
      "3/3 [==============================] - 1s 349ms/step - loss: 0.8072 - accuracy: 0.5250 - val_loss: 0.6980 - val_accuracy: 0.5000\n",
      "Epoch 9/40\n",
      "3/3 [==============================] - 1s 377ms/step - loss: 0.6399 - accuracy: 0.6500 - val_loss: 0.7172 - val_accuracy: 0.5000\n",
      "Epoch 10/40\n",
      "3/3 [==============================] - 1s 436ms/step - loss: 0.7519 - accuracy: 0.4500 - val_loss: 0.7193 - val_accuracy: 0.5125\n",
      "Epoch 11/40\n",
      "3/3 [==============================] - 1s 309ms/step - loss: 0.7121 - accuracy: 0.5500 - val_loss: 0.7191 - val_accuracy: 0.5000\n",
      "Epoch 12/40\n",
      "3/3 [==============================] - 1s 396ms/step - loss: 0.6864 - accuracy: 0.6500 - val_loss: 0.7074 - val_accuracy: 0.5375\n",
      "Epoch 13/40\n",
      "3/3 [==============================] - 1s 392ms/step - loss: 0.7215 - accuracy: 0.5000 - val_loss: 0.7229 - val_accuracy: 0.5000\n",
      "Epoch 14/40\n",
      "3/3 [==============================] - 1s 438ms/step - loss: 0.6938 - accuracy: 0.5375 - val_loss: 0.7204 - val_accuracy: 0.4500\n",
      "Epoch 15/40\n",
      "3/3 [==============================] - 1s 332ms/step - loss: 0.6703 - accuracy: 0.5875 - val_loss: 0.7372 - val_accuracy: 0.4750\n",
      "Epoch 16/40\n",
      "3/3 [==============================] - 1s 352ms/step - loss: 0.6895 - accuracy: 0.5500 - val_loss: 0.7189 - val_accuracy: 0.5125\n",
      "Epoch 17/40\n",
      "3/3 [==============================] - 1s 329ms/step - loss: 0.6484 - accuracy: 0.6500 - val_loss: 0.7168 - val_accuracy: 0.5375\n",
      "Epoch 18/40\n",
      "3/3 [==============================] - 1s 390ms/step - loss: 0.6415 - accuracy: 0.6000 - val_loss: 0.7181 - val_accuracy: 0.5375\n",
      "Epoch 19/40\n",
      "3/3 [==============================] - 1s 369ms/step - loss: 0.6001 - accuracy: 0.6625 - val_loss: 0.7363 - val_accuracy: 0.5500\n",
      "Epoch 20/40\n",
      "3/3 [==============================] - 1s 311ms/step - loss: 0.6197 - accuracy: 0.6625 - val_loss: 0.7606 - val_accuracy: 0.5500\n",
      "Epoch 21/40\n",
      "3/3 [==============================] - 1s 397ms/step - loss: 0.5553 - accuracy: 0.7375 - val_loss: 0.7699 - val_accuracy: 0.5875\n",
      "Epoch 22/40\n",
      "3/3 [==============================] - 1s 328ms/step - loss: 0.6041 - accuracy: 0.6875 - val_loss: 0.7448 - val_accuracy: 0.5750\n",
      "Epoch 23/40\n",
      "3/3 [==============================] - 1s 376ms/step - loss: 0.5635 - accuracy: 0.6625 - val_loss: 0.7619 - val_accuracy: 0.5625\n",
      "Epoch 24/40\n",
      "3/3 [==============================] - 1s 324ms/step - loss: 0.5203 - accuracy: 0.7750 - val_loss: 0.7995 - val_accuracy: 0.5750\n",
      "Epoch 25/40\n",
      "3/3 [==============================] - 1s 323ms/step - loss: 0.5313 - accuracy: 0.7875 - val_loss: 0.8291 - val_accuracy: 0.5875\n",
      "Epoch 26/40\n",
      "3/3 [==============================] - 1s 356ms/step - loss: 0.4591 - accuracy: 0.7875 - val_loss: 0.8533 - val_accuracy: 0.5875\n",
      "Epoch 27/40\n",
      "3/3 [==============================] - 1s 359ms/step - loss: 0.4962 - accuracy: 0.7375 - val_loss: 0.8150 - val_accuracy: 0.5750\n",
      "Epoch 28/40\n",
      "3/3 [==============================] - 1s 343ms/step - loss: 0.3241 - accuracy: 0.8500 - val_loss: 0.8490 - val_accuracy: 0.6125\n",
      "Epoch 29/40\n",
      "3/3 [==============================] - 1s 317ms/step - loss: 0.3493 - accuracy: 0.8500 - val_loss: 0.9954 - val_accuracy: 0.6125\n",
      "Epoch 30/40\n",
      "3/3 [==============================] - 1s 318ms/step - loss: 0.4596 - accuracy: 0.7625 - val_loss: 0.9922 - val_accuracy: 0.6000\n",
      "Epoch 31/40\n",
      "3/3 [==============================] - 1s 323ms/step - loss: 0.4025 - accuracy: 0.8375 - val_loss: 0.9370 - val_accuracy: 0.5750\n",
      "Epoch 32/40\n",
      "3/3 [==============================] - 1s 327ms/step - loss: 0.3443 - accuracy: 0.8500 - val_loss: 0.8963 - val_accuracy: 0.6125\n",
      "Epoch 33/40\n",
      "3/3 [==============================] - 1s 395ms/step - loss: 0.3595 - accuracy: 0.9125 - val_loss: 1.0305 - val_accuracy: 0.5375\n",
      "Epoch 34/40\n",
      "3/3 [==============================] - 1s 381ms/step - loss: 0.2544 - accuracy: 0.8875 - val_loss: 1.1292 - val_accuracy: 0.6125\n",
      "Epoch 35/40\n",
      "3/3 [==============================] - 1s 388ms/step - loss: 0.3078 - accuracy: 0.8500 - val_loss: 1.2453 - val_accuracy: 0.6625\n",
      "Epoch 36/40\n",
      "3/3 [==============================] - 1s 308ms/step - loss: 0.2270 - accuracy: 0.9000 - val_loss: 1.3582 - val_accuracy: 0.6625\n",
      "Epoch 37/40\n",
      "3/3 [==============================] - 1s 339ms/step - loss: 0.2253 - accuracy: 0.9000 - val_loss: 1.5502 - val_accuracy: 0.5875\n",
      "Epoch 38/40\n",
      "3/3 [==============================] - 1s 389ms/step - loss: 0.2318 - accuracy: 0.9000 - val_loss: 1.1758 - val_accuracy: 0.6250\n",
      "Epoch 39/40\n",
      "3/3 [==============================] - 1s 320ms/step - loss: 0.2746 - accuracy: 0.9000 - val_loss: 1.1027 - val_accuracy: 0.6500\n",
      "Epoch 40/40\n",
      "3/3 [==============================] - 1s 333ms/step - loss: 0.2536 - accuracy: 0.8750 - val_loss: 1.1320 - val_accuracy: 0.5875\n"
     ]
    }
   ],
   "source": [
    "# Fitting the model\n",
    "classifier = model.fit(training_set,\n",
    "                         #steps_per_epoch = 250,\n",
    "                         epochs = 40,\n",
    "                         validation_data = test_set,    \n",
    "                         #validation_steps = 50,\n",
    "                         #callbacks=[early_stop]\n",
    "                         )"
   ]
  },
  {
   "cell_type": "code",
   "execution_count": 88,
   "metadata": {},
   "outputs": [
    {
     "name": "stdout",
     "output_type": "stream",
     "text": [
      "Saved model to disk\n"
     ]
    }
   ],
   "source": [
    "# save the model\n",
    "model.save(\"model.h5\")\n",
    "print(\"Saved model to disk\")"
   ]
  },
  {
   "cell_type": "markdown",
   "metadata": {},
   "source": [
    "## Loss & Accuracy Graph (Training and Test)"
   ]
  },
  {
   "cell_type": "code",
   "execution_count": 89,
   "metadata": {},
   "outputs": [
    {
     "data": {
      "text/plain": [
       "<matplotlib.legend.Legend at 0x387af048>"
      ]
     },
     "execution_count": 89,
     "metadata": {},
     "output_type": "execute_result"
    },
    {
     "data": {
      "image/png": "[encoded data removed]",
      "text/plain": [
       "<Figure size 432x288 with 1 Axes>"
      ]
     },
     "metadata": {
      "needs_background": "light"
     },
     "output_type": "display_data"
    }
   ],
   "source": [
    "import matplotlib.pyplot as plt\n",
    "import numpy as np\n",
    "\n",
    "# 8. Vẽ đồ thị loss, accuracy của traning set và validation set\n",
    "fig = plt.figure()\n",
    "numOfEpoch = 40\n",
    "plt.plot(np.arange(0, numOfEpoch), classifier.history['loss'], label='training loss')\n",
    "plt.plot(np.arange(0, numOfEpoch), classifier.history['val_loss'], label='validation loss')\n",
    "plt.plot(np.arange(0, numOfEpoch), classifier.history['accuracy'], label='accuracy')\n",
    "plt.plot(np.arange(0, numOfEpoch), classifier.history['val_accuracy'], label='validation accuracy')\n",
    "plt.title('Accuracy and Loss')\n",
    "plt.xlabel('Epoch')\n",
    "plt.ylabel('Loss|Accuracy')\n",
    "plt.legend()"
   ]
  }
 ],
 "metadata": {
  "kernelspec": {
   "display_name": "Python 3",
   "language": "python",
   "name": "python3"
  },
  "language_info": {
   "codemirror_mode": {
    "name": "ipython",
    "version": 3
   },
   "file_extension": ".py",
   "mimetype": "text/x-python",
   "name": "python",
   "nbconvert_exporter": "python",
   "pygments_lexer": "ipython3",
   "version": "3.7.8"
  }
 },
 "nbformat": 4,
 "nbformat_minor": 4
}
