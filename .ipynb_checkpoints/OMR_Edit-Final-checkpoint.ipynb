{
 "cells": [
  {
   "cell_type": "markdown",
   "metadata": {},
   "source": [
    "# Optical mark recognition"
   ]
  },
  {
   "cell_type": "markdown",
   "metadata": {},
   "source": [
    "### Importing the libraries"
   ]
  },
  {
   "cell_type": "code",
   "execution_count": 1,
   "metadata": {},
   "outputs": [],
   "source": [
    "from imutils.perspective import four_point_transform\n",
    "from imutils import contours\n",
    "import numpy as np\n",
    "import imutils\n",
    "import cv2"
   ]
  },
  {
   "cell_type": "markdown",
   "metadata": {},
   "source": [
    "### Initializing the answer key"
   ]
  },
  {
   "cell_type": "code",
   "execution_count": 2,
   "metadata": {},
   "outputs": [],
   "source": [
    "ANSWER_KEY = {0: 1, 1: 4, 2: 0, 3: 3, 4: 1}\n",
    "ANSWER_KEY_FAKE = 3;"
   ]
  },
  {
   "cell_type": "markdown",
   "metadata": {},
   "source": [
    "### Reading the image"
   ]
  },
  {
   "cell_type": "code",
   "execution_count": 3,
   "metadata": {},
   "outputs": [],
   "source": [
    "image = cv2.imread('data/Sheet1.jpg')"
   ]
  },
  {
   "cell_type": "markdown",
   "metadata": {},
   "source": [
    "### Converting it to grayscale"
   ]
  },
  {
   "cell_type": "code",
   "execution_count": 4,
   "metadata": {},
   "outputs": [],
   "source": [
    "gray = cv2.cvtColor(image, cv2.COLOR_BGR2GRAY)"
   ]
  },
  {
   "cell_type": "markdown",
   "metadata": {},
   "source": [
    "### Bluring it to hide the details"
   ]
  },
  {
   "cell_type": "code",
   "execution_count": 5,
   "metadata": {},
   "outputs": [],
   "source": [
    "blurred = cv2.GaussianBlur(gray, (5, 5), 0)"
   ]
  },
  {
   "cell_type": "markdown",
   "metadata": {},
   "source": [
    "### Performing edge detection"
   ]
  },
  {
   "cell_type": "code",
   "execution_count": 6,
   "metadata": {},
   "outputs": [],
   "source": [
    "edged = cv2.Canny(blurred, 75, 200)"
   ]
  },
  {
   "cell_type": "markdown",
   "metadata": {},
   "source": [
    "### Displaying the image"
   ]
  },
  {
   "cell_type": "code",
   "execution_count": 7,
   "metadata": {},
   "outputs": [],
   "source": [
    "# cv2.imshow('img',edged)\n",
    "# cv2.waitKey(0)"
   ]
  },
  {
   "cell_type": "markdown",
   "metadata": {},
   "source": [
    "### Finding the contours"
   ]
  },
  {
   "cell_type": "code",
   "execution_count": 8,
   "metadata": {},
   "outputs": [],
   "source": [
    "cnts = cv2.findContours(edged.copy(), cv2.RETR_EXTERNAL, cv2.CHAIN_APPROX_SIMPLE)"
   ]
  },
  {
   "cell_type": "code",
   "execution_count": 9,
   "metadata": {},
   "outputs": [],
   "source": [
    "cnts = cnts[0]"
   ]
  },
  {
   "cell_type": "markdown",
   "metadata": {},
   "source": [
    "### Determining contour of the paper"
   ]
  },
  {
   "cell_type": "code",
   "execution_count": 10,
   "metadata": {},
   "outputs": [],
   "source": [
    "docCnt = None\n",
    "if len(cnts) > 0:\n",
    "     # Sorting contours based on their area. Paper will have mamimum area as it is the main object\n",
    "    cnts = sorted(cnts, key=cv2.contourArea, reverse=True)  \n",
    "    \n",
    "    for c in cnts:\n",
    "        \n",
    "        peri = cv2.arcLength(c, True)   # Calculating the perimeter\n",
    "        approx = cv2.approxPolyDP(c, 0.02 * peri, True)    # approximating the shape\n",
    "        \n",
    "        if len(approx) == 4:    # If shape has four edges\n",
    "            docCnt = approx\n",
    "            break"
   ]
  },
  {
   "cell_type": "markdown",
   "metadata": {},
   "source": [
    "### Visualizing the contours"
   ]
  },
  {
   "cell_type": "code",
   "execution_count": 11,
   "metadata": {},
   "outputs": [],
   "source": [
    "# cv2.imshow('temp',cv2.drawContours(image.copy(),[docCnt],-1,(0,0,255),2))\n",
    "# cv2.waitKey(0)"
   ]
  },
  {
   "cell_type": "markdown",
   "metadata": {},
   "source": [
    "### Applying four point transformation"
   ]
  },
  {
   "cell_type": "code",
   "execution_count": 12,
   "metadata": {},
   "outputs": [],
   "source": [
    "paper = four_point_transform(image,docCnt.reshape(4,2))"
   ]
  },
  {
   "cell_type": "code",
   "execution_count": 13,
   "metadata": {},
   "outputs": [],
   "source": [
    "warped = four_point_transform(gray,docCnt.reshape(4,2))"
   ]
  },
  {
   "cell_type": "markdown",
   "metadata": {},
   "source": [
    "### Visualizing the transformed image"
   ]
  },
  {
   "cell_type": "code",
   "execution_count": 14,
   "metadata": {},
   "outputs": [],
   "source": [
    "y=160\n",
    "x=60\n",
    "h=200\n",
    "w=220\n",
    "crop_id = warped[y:y+h, x:x+w]\n",
    "# cv2.imshow(\"cropped_id\", crop_id)\n",
    "# cv2.waitKey(0)\n",
    "\n",
    "y=360\n",
    "x=60\n",
    "h=460\n",
    "w=520\n",
    "crop_answer = warped[y:y+h, x:x+w]\n",
    "crop_answer_color = paper[y:y+h, x:x+w]\n",
    "# cv2.imshow(\"cropped\", crop_answer)\n",
    "# cv2.waitKey(0)\n",
    "# cv2.imshow('img',paper)\n",
    "# cv2.waitKey(0)"
   ]
  },
  {
   "cell_type": "markdown",
   "metadata": {},
   "source": [
    "### Thresholding"
   ]
  },
  {
   "cell_type": "code",
   "execution_count": 15,
   "metadata": {},
   "outputs": [
    {
     "data": {
      "text/plain": [
       "-1"
      ]
     },
     "execution_count": 15,
     "metadata": {},
     "output_type": "execute_result"
    }
   ],
   "source": [
    "# OTSU will automatically determine the best value for the parameter thresh. The value of thresh is not considered \n",
    "# when otsu flag is passed\n",
    "thresh = cv2.threshold(warped, 0, 255, cv2.THRESH_BINARY_INV | cv2.THRESH_OTSU)[1] \n",
    "\n",
    "thresh_id = cv2.threshold(crop_id, 0, 255, cv2.THRESH_BINARY_INV | cv2.THRESH_OTSU)[1] \n",
    "thresh_answer = cv2.threshold(crop_answer, 0, 255, cv2.THRESH_BINARY_INV | cv2.THRESH_OTSU)[1] \n",
    "cv2.imshow(\"Thresh\", thresh_answer)                                    \n",
    "cv2.waitKey(0)"
   ]
  },
  {
   "cell_type": "markdown",
   "metadata": {},
   "source": [
    "### Finding the contours of the thresholded image"
   ]
  },
  {
   "cell_type": "code",
   "execution_count": 16,
   "metadata": {},
   "outputs": [],
   "source": [
    "cnts = cv2.findContours(thresh_id.copy(), cv2.RETR_EXTERNAL, cv2.CHAIN_APPROX_SIMPLE)\n",
    "cnts_id = cnts[0]\n",
    "\n",
    "cnts = cv2.findContours(thresh_answer.copy(), cv2.RETR_EXTERNAL, cv2.CHAIN_APPROX_SIMPLE)\n",
    "cnts_answer = cnts[0]\n",
    "\n",
    "# cv2.imshow('temp',cv2.drawContours(pap,cnts,-1,(0,0,255),2))\n",
    "# cv2.waitKey(0)"
   ]
  },
  {
   "cell_type": "markdown",
   "metadata": {},
   "source": [
    "### Determining the contours of the bubble"
   ]
  },
  {
   "cell_type": "code",
   "execution_count": 17,
   "metadata": {},
   "outputs": [],
   "source": [
    "idCnts = []\n",
    "questionCnts = []\n",
    "# for c in cnts:\n",
    "for c in cnts_id:\n",
    "    (x, y, w, h) = cv2.boundingRect(c)\n",
    "    ar = w / float(h)\n",
    "    \n",
    "    if w <= 22 and w >= 15 and h <= 22 and h >= 15 and ar >= 0.7 and ar <= 1.3:\n",
    "        idCnts.append(c)\n",
    "        \n",
    "for c in cnts_answer:\n",
    "    (x, y, w, h) = cv2.boundingRect(c)\n",
    "    ar = w / float(h)\n",
    "    \n",
    "    if w <= 22 and w >= 15 and h <= 22 and h >= 15 and ar >= 0.7 and ar <= 1.3:\n",
    "        questionCnts.append(c) "
   ]
  },
  {
   "cell_type": "code",
   "execution_count": 18,
   "metadata": {},
   "outputs": [
    {
     "data": {
      "text/plain": [
       "320"
      ]
     },
     "execution_count": 18,
     "metadata": {},
     "output_type": "execute_result"
    }
   ],
   "source": [
    "len(questionCnts)"
   ]
  },
  {
   "cell_type": "markdown",
   "metadata": {},
   "source": [
    "### Visualizing the contour of bubbles"
   ]
  },
  {
   "cell_type": "code",
   "execution_count": 19,
   "metadata": {},
   "outputs": [],
   "source": [
    "# pap = paper.copy()\n",
    "# for c in questionCnts:\n",
    "# cv2.imshow('temp',cv2.drawContours(pap,questionCnts,-1,(0,0,255),2))\n",
    "# cv2.waitKey(0)"
   ]
  },
  {
   "cell_type": "markdown",
   "metadata": {},
   "source": [
    "### Sorting the contours from top to bottom"
   ]
  },
  {
   "cell_type": "code",
   "execution_count": 20,
   "metadata": {},
   "outputs": [],
   "source": [
    "idCnts = contours.sort_contours(idCnts, method=\"left-to-right\")[0]\n",
    "# questionCnts = contours.sort_contours(questionCnts, method=\"top-to-bottom\")[0]\n",
    "questionCnts = contours.sort_contours(questionCnts, method=\"left-to-right\")[0]\n",
    "# questionCnts = contours.sort_contours(questionCnts, method=\"top-to-bottom\")[0]"
   ]
  },
  {
   "cell_type": "markdown",
   "metadata": {},
   "source": [
    "### Visualizing the sorted contour of bubbles"
   ]
  },
  {
   "cell_type": "code",
   "execution_count": 21,
   "metadata": {},
   "outputs": [],
   "source": [
    "# pap = paper.copy()\n",
    "# for c in questionCnts:\n",
    "#     cv2.imshow('temp',cv2.drawContours(pap,[c],-1,(0,255,0),2))\n",
    "#     cv2.waitKey(0)\n",
    "\n",
    "# pap = crop_id.copy()\n",
    "# for c in idCnts:\n",
    "#     cv2.imshow('temp',cv2.drawContours(pap, [c],-1,(0,255,0),2))\n",
    "#     cv2.waitKey(0)\n",
    "\n",
    "# pap = crop_answer.copy()\n",
    "# for c in questionCnts:\n",
    "#     cv2.imshow('temp',cv2.drawContours(pap, [c],-1,(0,255,0),2))\n",
    "#     cv2.waitKey(0)"
   ]
  },
  {
   "cell_type": "markdown",
   "metadata": {},
   "source": [
    "### Isolating the bubbles"
   ]
  },
  {
   "cell_type": "code",
   "execution_count": 22,
   "metadata": {},
   "outputs": [
    {
     "name": "stdout",
     "output_type": "stream",
     "text": [
      "27860000\n"
     ]
    }
   ],
   "source": [
    "pap = paper.copy()\n",
    "studentId = \"\"\n",
    "flag = False\n",
    "for i in range(0,len(idCnts),10):\n",
    "    temp = contours.sort_contours(idCnts[i:i+10], method=\"top-to-bottom\")[0]\n",
    "    \n",
    "    bubbled = None\n",
    "    flag = False\n",
    "        \n",
    "    for (j,c) in enumerate(temp):\n",
    "        # Refer to last section ('Isolation step by step') for viewing what each step does \n",
    "        mask = np.zeros(thresh_id.shape, dtype=\"uint8\")     # Tô đen\n",
    "        cv2.drawContours(mask, [c], -1, 255, -1)         # Tô trắng                                             \n",
    "        \n",
    "        mask = cv2.bitwise_and(thresh_id, thresh_id, mask=mask)     # Doing Bitwise-and to reveal the bubble\n",
    "        total = cv2.countNonZero(mask)     # Đếm trắng\n",
    "        \n",
    "        if total > 200:     # Chỉnh cái này\n",
    "            bubbled = (total, j)\n",
    "        \n",
    "#     print(bubbled)\n",
    "    if bubbled:\n",
    "        studentId += str(bubbled[1])\n",
    "        \n",
    "print(studentId)"
   ]
  },
  {
   "cell_type": "code",
   "execution_count": 23,
   "metadata": {},
   "outputs": [],
   "source": [
    "pap = crop_answer_color.copy()\n",
    "q = -1\n",
    "correct = 0\n",
    "flag = False\n",
    "# minm = []\n",
    "# maxm = []\n",
    "for i in range(0,len(questionCnts),80): #chỉnh số câu\n",
    "    \n",
    "    # Sorting contours from left to right\n",
    "    temp = contours.sort_contours(questionCnts[i:i+80], method=\"left-to-right\")[0] # chon cot 20 cau\n",
    "    temp2 = contours.sort_contours(temp, method=\"top-to-bottom\")[0]\n",
    "    \n",
    "    for i in range(0,len(temp2), 4):\n",
    "        q+=1\n",
    "        temp3 = contours.sort_contours(temp2[i:i+4], method=\"left-to-right\")[0]\n",
    "#         for c in temp3:\n",
    "#             cv2.imshow('temp',cv2.drawContours(pap, [c],-1,(0,255,0),2))\n",
    "#             cv2.waitKey(0)\n",
    "    \n",
    "        bubbled = None\n",
    "        flag = False\n",
    "        for (j,c) in enumerate(temp3):\n",
    "            mask = np.zeros(thresh_answer.shape, dtype=\"uint8\")     # Create a dummy mask\n",
    "            cv2.drawContours(mask, [c], -1, 255, -1)         # Drawing the contours on the dummy mask\n",
    "            \n",
    "#             cv2.imshow('temp', mask)\n",
    "#             cv2.waitKey(0)\n",
    "\n",
    "            mask = cv2.bitwise_and(thresh_answer, thresh_answer, mask=mask)     # Doing Bitwise-and to reveal the bubble\n",
    "            total = cv2.countNonZero(mask)     # Calculating the sum of non-zero pixels            \n",
    "\n",
    "            \n",
    "            # Breaking the loop and setting bubbled = None when another marked bubble is found in same question\n",
    "            if flag and total > 150:     \n",
    "                bubbled = None\n",
    "                break\n",
    "\n",
    "            if total > 150:     # Setting flag = True when a marked bubble is found\n",
    "                flag = True\n",
    "\n",
    "            if total > 150:     # Comparing the sum of non zero pixels\n",
    "                bubbled = (total, j)\n",
    "        \n",
    "        color = (0, 0, 255)\n",
    "        # k = ANSWER_KEY[q]     # Retrieving the answer from the answer key based on question 'q'\n",
    "        k = 2 # default dap an la C\n",
    "#         {15: 3}; {3}\n",
    "        if bubbled and k == bubbled[1]:\n",
    "            color = (0, 255, 0)\n",
    "            correct += 1\n",
    "        if bubbled:     # Not Drawing contour when bubbled is None\n",
    "            cv2.drawContours(pap, [temp3[k]], -1, color, 3)"
   ]
  },
  {
   "cell_type": "markdown",
   "metadata": {},
   "source": [
    "### Displaying the score"
   ]
  },
  {
   "cell_type": "code",
   "execution_count": 26,
   "metadata": {},
   "outputs": [
    {
     "data": {
      "text/plain": [
       "-1"
      ]
     },
     "execution_count": 26,
     "metadata": {},
     "output_type": "execute_result"
    }
   ],
   "source": [
    "score = (correct /(q+1)) * 100\n",
    "result = pap.copy()\n",
    "cv2.putText(result, studentId, (10, 30), cv2.FONT_HERSHEY_SIMPLEX, 0.6, (255, 0, 0), 2)\n",
    "cv2.putText(result, \"{:.1f}%\".format(score), (10, 70), cv2.FONT_HERSHEY_SIMPLEX, 0.6, (255, 0, 0), 2)\n",
    "# cv2.imshow(\"Original\", image)\n",
    "cv2.imshow(\"test\", result)\n",
    "cv2.waitKey(0)"
   ]
  },
  {
   "cell_type": "code",
   "execution_count": null,
   "metadata": {},
   "outputs": [],
   "source": []
  }
 ],
 "metadata": {
  "kernelspec": {
   "display_name": "Python 3",
   "language": "python",
   "name": "python3"
  },
  "language_info": {
   "codemirror_mode": {
    "name": "ipython",
    "version": 3
   },
   "file_extension": ".py",
   "mimetype": "text/x-python",
   "name": "python",
   "nbconvert_exporter": "python",
   "pygments_lexer": "ipython3",
   "version": "3.8.8"
  }
 },
 "nbformat": 4,
 "nbformat_minor": 2
}
