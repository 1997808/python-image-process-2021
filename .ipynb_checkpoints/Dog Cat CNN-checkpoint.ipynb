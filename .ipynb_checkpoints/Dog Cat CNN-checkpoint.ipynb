{
 "cells": [
  {
   "cell_type": "code",
   "execution_count": 3,
   "id": "5a7d7625",
   "metadata": {},
   "outputs": [],
   "source": [
    "import pandas as pd\n",
    "import numpy as np\n",
    "import matplotlib.pyplot as plt\n",
    "from keras.models import Sequential\n",
    "from keras.layers import Conv2D\n",
    "from keras.layers import MaxPooling2D\n",
    "from keras.layers import Dense\n",
    "from keras.layers import Flatten"
   ]
  },
  {
   "cell_type": "code",
   "execution_count": 65,
   "id": "2581090c",
   "metadata": {},
   "outputs": [],
   "source": [
    "#part2-fitting the cnn to the images\n",
    "from keras.preprocessing.image import ImageDataGenerator\n",
    "train_datagen = ImageDataGenerator(rescale = 1./255,\n",
    "                                   shear_range = 0.2,\n",
    "                                   zoom_range = 0.2,\n",
    "                                   horizontal_flip = True,\n",
    "                                   validation_split=0.2)"
   ]
  },
  {
   "cell_type": "code",
   "execution_count": 78,
   "id": "ffc0ef84",
   "metadata": {},
   "outputs": [
    {
     "name": "stdout",
     "output_type": "stream",
     "text": [
      "Found 6404 images belonging to 2 classes.\n",
      "Found 1601 images belonging to 2 classes.\n",
      "Found 2023 images belonging to 2 classes.\n"
     ]
    }
   ],
   "source": [
    "# Generating images for the Test set\n",
    "test_datagen = ImageDataGenerator(rescale = 1./255)\n",
    "# Creating training set\n",
    "training_set = train_datagen.flow_from_directory('F:/School/dog_cat_data/training_set/training_set',\n",
    "                                                 target_size = (64, 64),\n",
    "                                                 batch_size = 16,\n",
    "                                                 class_mode = 'binary',\n",
    "                                                 subset='training')\n",
    "\n",
    "validation_set = train_datagen.flow_from_directory('F:/School/dog_cat_data/training_set/training_set',\n",
    "                                                 target_size = (64, 64),\n",
    "                                                 batch_size = 16,\n",
    "                                                 class_mode = 'binary',\n",
    "                                                 subset='validation')\n",
    "# print(training_set.shape)\n",
    "# training_val = training_set[8000:9000,:]\n",
    "# training_train = training_set[:8000]\n",
    "# Creating the Test set\n",
    "test_set = test_datagen.flow_from_directory('F:/School/dog_cat_data/test_set/test_set',\n",
    "                                            target_size = (64, 64),\n",
    "                                            batch_size = 16,\n",
    "                                            class_mode = 'binary')\n",
    "# test_val = test_set[2000:3000,:]\n",
    "# test_train = test_set[:2000]"
   ]
  },
  {
   "cell_type": "code",
   "execution_count": 85,
   "id": "630226d5",
   "metadata": {},
   "outputs": [],
   "source": [
    "#initializing the cnn\n",
    "classifier=Sequential()\n",
    "#step1-convolution\n",
    "classifier.add(Conv2D(8,(3,3), activation='relu', input_shape=(64,64,3)))\n",
    "#step2-maxpooling\n",
    "classifier.add(MaxPooling2D(pool_size=(2,2)))\n",
    "\n",
    "\n",
    "classifier.add(Conv2D(16,(3,3), activation='relu'))\n",
    "classifier.add(MaxPooling2D(pool_size=(2,2)))\n",
    "\n",
    "classifier.add(Conv2D(32,(3,3), activation='relu'))\n",
    "classifier.add(MaxPooling2D(pool_size=(2,2)))\n",
    "\n",
    "#step3-flattening\n",
    "classifier.add(Flatten())\n",
    "\n",
    "#step4-fullconnection\n",
    "classifier.add(Dense(128,activation='relu'))\n",
    "classifier.add(Dense(1,activation='sigmoid'))"
   ]
  },
  {
   "cell_type": "code",
   "execution_count": 86,
   "id": "4b6f159f",
   "metadata": {},
   "outputs": [],
   "source": [
    "classifier.compile(loss='binary_crossentropy',\n",
    "              optimizer='adam',\n",
    "              metrics=['accuracy'])"
   ]
  },
  {
   "cell_type": "code",
   "execution_count": 87,
   "id": "f1406e0d",
   "metadata": {},
   "outputs": [
    {
     "name": "stdout",
     "output_type": "stream",
     "text": [
      "<tensorflow.python.keras.preprocessing.image.DirectoryIterator object at 0x0000017E47C470D0>\n"
     ]
    },
    {
     "data": {
      "text/plain": [
       "array([0, 0, 0, ..., 1, 1, 1])"
      ]
     },
     "execution_count": 87,
     "metadata": {},
     "output_type": "execute_result"
    }
   ],
   "source": [
    "print(training_set)\n",
    "training_set.class_indices\n",
    "training_set.classes"
   ]
  },
  {
   "cell_type": "code",
   "execution_count": 88,
   "id": "044c0661",
   "metadata": {},
   "outputs": [
    {
     "name": "stdout",
     "output_type": "stream",
     "text": [
      "Epoch 1/10\n",
      "401/401 [==============================] - 25s 63ms/step - loss: 0.6882 - accuracy: 0.5467 - val_loss: 0.6607 - val_accuracy: 0.6177\n",
      "Epoch 2/10\n",
      "401/401 [==============================] - 25s 63ms/step - loss: 0.6449 - accuracy: 0.6224 - val_loss: 0.6410 - val_accuracy: 0.6496\n",
      "Epoch 3/10\n",
      "401/401 [==============================] - 25s 63ms/step - loss: 0.6039 - accuracy: 0.6711 - val_loss: 0.6203 - val_accuracy: 0.6602\n",
      "Epoch 4/10\n",
      "401/401 [==============================] - 25s 63ms/step - loss: 0.5707 - accuracy: 0.7036 - val_loss: 0.5743 - val_accuracy: 0.7002\n",
      "Epoch 5/10\n",
      "401/401 [==============================] - 25s 63ms/step - loss: 0.5446 - accuracy: 0.7206 - val_loss: 0.5444 - val_accuracy: 0.7277\n",
      "Epoch 6/10\n",
      "401/401 [==============================] - 25s 62ms/step - loss: 0.5305 - accuracy: 0.7334 - val_loss: 0.5209 - val_accuracy: 0.7289\n",
      "Epoch 7/10\n",
      "401/401 [==============================] - 25s 63ms/step - loss: 0.4987 - accuracy: 0.7534 - val_loss: 0.5341 - val_accuracy: 0.7227\n",
      "Epoch 8/10\n",
      "401/401 [==============================] - 26s 65ms/step - loss: 0.4914 - accuracy: 0.7600 - val_loss: 0.5025 - val_accuracy: 0.7502\n",
      "Epoch 9/10\n",
      "401/401 [==============================] - 25s 63ms/step - loss: 0.4746 - accuracy: 0.7687 - val_loss: 0.5236 - val_accuracy: 0.7358\n",
      "Epoch 10/10\n",
      "401/401 [==============================] - 26s 64ms/step - loss: 0.4638 - accuracy: 0.7767 - val_loss: 0.4834 - val_accuracy: 0.7701\n"
     ]
    }
   ],
   "source": [
    "H = classifier.fit(training_set, epochs=10, validation_data=validation_set)"
   ]
  },
  {
   "cell_type": "code",
   "execution_count": 89,
   "id": "7484c94d",
   "metadata": {},
   "outputs": [
    {
     "data": {
      "text/plain": [
       "<matplotlib.legend.Legend at 0x17e490289d0>"
      ]
     },
     "execution_count": 89,
     "metadata": {},
     "output_type": "execute_result"
    },
    {
     "data": {
      "image/png": "[encoded data removed]",
      "text/plain": [
       "<Figure size 432x288 with 1 Axes>"
      ]
     },
     "metadata": {
      "needs_background": "light"
     },
     "output_type": "display_data"
    }
   ],
   "source": [
    "# 8. Vẽ đồ thị loss, accuracy của traning set và validation set\n",
    "fig = plt.figure()\n",
    "numOfEpoch = 10\n",
    "plt.plot(np.arange(0, numOfEpoch), H.history['loss'], label='training loss')\n",
    "plt.plot(np.arange(0, numOfEpoch), H.history['val_loss'], label='validation loss')\n",
    "plt.plot(np.arange(0, numOfEpoch), H.history['accuracy'], label='accuracy')\n",
    "plt.plot(np.arange(0, numOfEpoch), H.history['val_accuracy'], label='validation accuracy')\n",
    "plt.title('Accuracy and Loss')\n",
    "plt.xlabel('Epoch')\n",
    "plt.ylabel('Loss|Accuracy')\n",
    "plt.legend()"
   ]
  },
  {
   "cell_type": "code",
   "execution_count": 90,
   "id": "cc22385c",
   "metadata": {},
   "outputs": [
    {
     "name": "stdout",
     "output_type": "stream",
     "text": [
      "127/127 [==============================] - 4s 33ms/step - loss: 0.4850 - accuracy: 0.7761\n",
      "[0.4850374460220337, 0.7760751247406006]\n"
     ]
    }
   ],
   "source": [
    "score = classifier.evaluate(test_set, batch_size=16)\n",
    "print(score)"
   ]
  },
  {
   "cell_type": "code",
   "execution_count": null,
   "id": "5581a440",
   "metadata": {},
   "outputs": [],
   "source": []
  }
 ],
 "metadata": {
  "kernelspec": {
   "display_name": "Python 3",
   "language": "python",
   "name": "python3"
  },
  "language_info": {
   "codemirror_mode": {
    "name": "ipython",
    "version": 3
   },
   "file_extension": ".py",
   "mimetype": "text/x-python",
   "name": "python",
   "nbconvert_exporter": "python",
   "pygments_lexer": "ipython3",
   "version": "3.8.8"
  }
 },
 "nbformat": 4,
 "nbformat_minor": 5
}
