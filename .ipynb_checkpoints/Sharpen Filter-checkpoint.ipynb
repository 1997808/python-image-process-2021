{
 "cells": [
  {
   "cell_type": "code",
   "execution_count": 1,
   "id": "b76673d2",
   "metadata": {},
   "outputs": [],
   "source": [
    "import numpy as np\n",
    "import matplotlib.pyplot as plt\n",
    "import cv2\n",
    "from skimage.util import random_noise"
   ]
  },
  {
   "cell_type": "code",
   "execution_count": null,
   "id": "ce7cc1b4",
   "metadata": {},
   "outputs": [],
   "source": [
    "#Them nhieu vao anh\n",
    "img = cv2.imread(\"data/car.jpg\")\n",
    "#add salt and pepper noise\n",
    "noise_img = random_noise(img, mode='s&p', amount=0.03)\n",
    "\n",
    "\n",
    "noise_img = np.array(255*noise_img, dtype = 'uint8')\n",
    "#display noise image\n",
    "cv2.imshow('noise', noise_img)\n",
    "cv2.waitKey(0)"
   ]
  },
  {
   "cell_type": "code",
   "execution_count": null,
   "id": "077690ea",
   "metadata": {},
   "outputs": [],
   "source": [
    "#Bo loc trung binh\n",
    "kernel = 1/9 * np.array([\n",
    "    [1, 1, 1],\n",
    "    [1, 1, 1],\n",
    "    [1, 1, 1]\n",
    "])\n",
    "\n",
    "#averaging for smooth\n",
    "fimage = cv2.filter2D(noise_img, -1, kernel)\n",
    "fig, ax = plt.subplots(1, 2, figsize=(20, 20))\n",
    "ax[0].imshow(noise_img[:,:,::-1]); plt.axis('off')\n",
    "ax[1].imshow(fimage[:,:,::-1]); plt.axis('off')"
   ]
  },
  {
   "cell_type": "code",
   "execution_count": null,
   "id": "b47cf4b3",
   "metadata": {},
   "outputs": [],
   "source": [
    "img_blur = cv2.medianBlur(noise_img, 3) #image, kernel size\n",
    "fig, ax = plt.subplots(1, 2, figsize=(20, 20))\n",
    "ax[0].imshow(noise_img[:,:,::-1]); plt.axis('off')\n",
    "ax[1].imshow(img_blur[:,:,::-1]); plt.axis('off')"
   ]
  },
  {
   "cell_type": "code",
   "execution_count": null,
   "id": "91ff1e03",
   "metadata": {},
   "outputs": [],
   "source": [
    "#fimage\n",
    "fimage1 = cv2.addWeighted(img, 1.7, img_blur, -0.5, 0)\n",
    "fig, ax = plt.subplots(1, 3, figsize=(30,30))\n",
    "ax[0].imshow(img[:,:,::-1]); plt.axis('off'); ax[0].set_title('Anh goc')\n",
    "ax[1].imshow(fimage[:,:,::-1]); plt.axis('off'); ax[1].set_title('blur (unsharp mask)')\n",
    "ax[2].imshow(fimage1[:,:,::-1]); plt.axis('off'); ax[2].set_title('sharpen')"
   ]
  },
  {
   "cell_type": "code",
   "execution_count": null,
   "id": "94315bbd",
   "metadata": {},
   "outputs": [],
   "source": []
  }
 ],
 "metadata": {
  "kernelspec": {
   "display_name": "Python 3",
   "language": "python",
   "name": "python3"
  },
  "language_info": {
   "codemirror_mode": {
    "name": "ipython",
    "version": 3
   },
   "file_extension": ".py",
   "mimetype": "text/x-python",
   "name": "python",
   "nbconvert_exporter": "python",
   "pygments_lexer": "ipython3",
   "version": "3.8.8"
  }
 },
 "nbformat": 4,
 "nbformat_minor": 5
}
