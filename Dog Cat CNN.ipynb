{
 "cells": [
  {
   "cell_type": "code",
   "execution_count": 2,
   "id": "5a7d7625",
   "metadata": {},
   "outputs": [],
   "source": [
    "import pandas as pd\n",
    "import numpy as np\n",
    "import matplotlib.pyplot as plt\n",
    "from keras.models import Sequential\n",
    "from keras.layers import Conv2D\n",
    "from keras.layers import MaxPooling2D\n",
    "from keras.layers import Dense\n",
    "from keras.layers import Flatten"
   ]
  },
  {
   "cell_type": "code",
   "execution_count": 3,
   "id": "2581090c",
   "metadata": {},
   "outputs": [],
   "source": [
    "#part2-fitting the cnn to the images\n",
    "from keras.preprocessing.image import ImageDataGenerator\n",
    "train_datagen = ImageDataGenerator(rescale = 1./255,\n",
    "                                   shear_range = 0.2,\n",
    "                                   zoom_range = 0.2,\n",
    "                                   horizontal_flip = True,\n",
    "                                   validation_split=0.2)"
   ]
  },
  {
   "cell_type": "code",
   "execution_count": 4,
   "id": "ffc0ef84",
   "metadata": {},
   "outputs": [
    {
     "name": "stdout",
     "output_type": "stream",
     "text": [
      "Found 6404 images belonging to 2 classes.\n",
      "Found 1601 images belonging to 2 classes.\n",
      "Found 2023 images belonging to 2 classes.\n"
     ]
    }
   ],
   "source": [
    "# Generating images for the Test set\n",
    "test_datagen = ImageDataGenerator(rescale = 1./255)\n",
    "# Creating training set\n",
    "training_set = train_datagen.flow_from_directory('F:/School/dog_cat_data/training_set/training_set',\n",
    "                                                 target_size = (64, 64),\n",
    "                                                 batch_size = 16,\n",
    "                                                 class_mode = 'binary',\n",
    "                                                 subset='training')\n",
    "\n",
    "validation_set = train_datagen.flow_from_directory('F:/School/dog_cat_data/training_set/training_set',\n",
    "                                                 target_size = (64, 64),\n",
    "                                                 batch_size = 16,\n",
    "                                                 class_mode = 'binary',\n",
    "                                                 subset='validation')\n",
    "# print(training_set.shape)\n",
    "# training_val = training_set[8000:9000,:]\n",
    "# training_train = training_set[:8000]\n",
    "# Creating the Test set\n",
    "test_set = test_datagen.flow_from_directory('F:/School/dog_cat_data/test_set/test_set',\n",
    "                                            target_size = (64, 64),\n",
    "                                            batch_size = 16,\n",
    "                                            class_mode = 'binary')\n",
    "# test_val = test_set[2000:3000,:]\n",
    "# test_train = test_set[:2000]"
   ]
  },
  {
   "cell_type": "code",
   "execution_count": 5,
   "id": "630226d5",
   "metadata": {},
   "outputs": [],
   "source": [
    "#initializing the cnn\n",
    "classifier=Sequential()\n",
    "#step1-convolution\n",
    "classifier.add(Conv2D(8,(3,3), activation='relu', input_shape=(64,64,3)))\n",
    "#step2-maxpooling\n",
    "classifier.add(MaxPooling2D(pool_size=(2,2)))\n",
    "\n",
    "\n",
    "classifier.add(Conv2D(16,(3,3), activation='relu'))\n",
    "classifier.add(MaxPooling2D(pool_size=(2,2)))\n",
    "\n",
    "classifier.add(Conv2D(32,(3,3), activation='relu'))\n",
    "classifier.add(MaxPooling2D(pool_size=(2,2)))\n",
    "\n",
    "#step3-flattening\n",
    "classifier.add(Flatten())\n",
    "\n",
    "#step4-fullconnection\n",
    "classifier.add(Dense(128,activation='relu'))\n",
    "classifier.add(Dense(1,activation='sigmoid'))"
   ]
  },
  {
   "cell_type": "code",
   "execution_count": 6,
   "id": "4b6f159f",
   "metadata": {},
   "outputs": [],
   "source": [
    "classifier.compile(loss='binary_crossentropy',\n",
    "              optimizer='adam',\n",
    "              metrics=['accuracy'])"
   ]
  },
  {
   "cell_type": "code",
   "execution_count": 7,
   "id": "f1406e0d",
   "metadata": {},
   "outputs": [
    {
     "name": "stdout",
     "output_type": "stream",
     "text": [
      "<tensorflow.python.keras.preprocessing.image.DirectoryIterator object at 0x0000023105A28AC0>\n"
     ]
    },
    {
     "data": {
      "text/plain": [
       "array([0, 0, 0, ..., 1, 1, 1])"
      ]
     },
     "execution_count": 7,
     "metadata": {},
     "output_type": "execute_result"
    }
   ],
   "source": [
    "print(training_set)\n",
    "training_set.class_indices\n",
    "training_set.classes"
   ]
  },
  {
   "cell_type": "code",
   "execution_count": 8,
   "id": "044c0661",
   "metadata": {},
   "outputs": [
    {
     "name": "stdout",
     "output_type": "stream",
     "text": [
      "Epoch 1/10\n",
      "401/401 [==============================] - 107s 267ms/step - loss: 0.6696 - accuracy: 0.5879 - val_loss: 0.6492 - val_accuracy: 0.6127\n",
      "Epoch 2/10\n",
      "401/401 [==============================] - 26s 65ms/step - loss: 0.6217 - accuracy: 0.6608 - val_loss: 0.5722 - val_accuracy: 0.7033\n",
      "Epoch 3/10\n",
      "401/401 [==============================] - 26s 66ms/step - loss: 0.5759 - accuracy: 0.6946 - val_loss: 0.5599 - val_accuracy: 0.7108\n",
      "Epoch 4/10\n",
      "401/401 [==============================] - 26s 66ms/step - loss: 0.5461 - accuracy: 0.7189 - val_loss: 0.5448 - val_accuracy: 0.7220\n",
      "Epoch 5/10\n",
      "401/401 [==============================] - 26s 65ms/step - loss: 0.5337 - accuracy: 0.7331 - val_loss: 0.5237 - val_accuracy: 0.7370\n",
      "Epoch 6/10\n",
      "401/401 [==============================] - 26s 66ms/step - loss: 0.5161 - accuracy: 0.7411 - val_loss: 0.5034 - val_accuracy: 0.7508\n",
      "Epoch 7/10\n",
      "401/401 [==============================] - 26s 66ms/step - loss: 0.4957 - accuracy: 0.7544 - val_loss: 0.5023 - val_accuracy: 0.7564\n",
      "Epoch 8/10\n",
      "401/401 [==============================] - 26s 66ms/step - loss: 0.4936 - accuracy: 0.7583 - val_loss: 0.5107 - val_accuracy: 0.7583\n",
      "Epoch 9/10\n",
      "401/401 [==============================] - 27s 66ms/step - loss: 0.4798 - accuracy: 0.7740 - val_loss: 0.4987 - val_accuracy: 0.7651\n",
      "Epoch 10/10\n",
      "401/401 [==============================] - 26s 66ms/step - loss: 0.4653 - accuracy: 0.7820 - val_loss: 0.4711 - val_accuracy: 0.7758\n"
     ]
    }
   ],
   "source": [
    "H = classifier.fit(training_set, epochs=10, validation_data=validation_set)"
   ]
  },
  {
   "cell_type": "code",
   "execution_count": 10,
   "id": "7484c94d",
   "metadata": {},
   "outputs": [
    {
     "data": {
      "text/plain": [
       "<matplotlib.legend.Legend at 0x231111bb7f0>"
      ]
     },
     "execution_count": 10,
     "metadata": {},
     "output_type": "execute_result"
    },
    {
     "data": {
      "image/png": "[encoded data removed]",
      "text/plain": [
       "<Figure size 432x288 with 1 Axes>"
      ]
     },
     "metadata": {
      "needs_background": "light"
     },
     "output_type": "display_data"
    }
   ],
   "source": [
    "# 8. Vẽ đồ thị loss, accuracy của traning set và validation set\n",
    "fig = plt.figure()\n",
    "numOfEpoch = 10\n",
    "plt.plot(np.arange(0, numOfEpoch), H.history['loss'], label='training loss')\n",
    "plt.plot(np.arange(0, numOfEpoch), H.history['val_loss'], label='validation loss')\n",
    "plt.plot(np.arange(0, numOfEpoch), H.history['accuracy'], label='accuracy')\n",
    "plt.plot(np.arange(0, numOfEpoch), H.history['val_accuracy'], label='validation accuracy')\n",
    "plt.title('Accuracy and Loss')\n",
    "plt.xlabel('Epoch')\n",
    "plt.ylabel('Loss|Accuracy')\n",
    "plt.legend()"
   ]
  },
  {
   "cell_type": "code",
   "execution_count": 11,
   "id": "cc22385c",
   "metadata": {},
   "outputs": [
    {
     "name": "stdout",
     "output_type": "stream",
     "text": [
      "127/127 [==============================] - 23s 181ms/step - loss: 0.4945 - accuracy: 0.7583\n",
      "[0.4944554269313812, 0.7582798004150391]\n"
     ]
    }
   ],
   "source": [
    "score = classifier.evaluate(test_set, batch_size=16)\n",
    "print(score)"
   ]
  },
  {
   "cell_type": "code",
   "execution_count": 16,
   "id": "5581a440",
   "metadata": {},
   "outputs": [],
   "source": [
    "from tensorflow.keras.preprocessing import image\n",
    "#to predict new images \n",
    "def predict_image(imagepath, classifier):\n",
    "    predict = image.load_img(imagepath, target_size = (64, 64))   \n",
    "    predict_modified = image.img_to_array(predict)\n",
    "    predict_modified = predict_modified / 255\n",
    "    predict_modified = np.expand_dims(predict_modified, axis = 0)\n",
    "    result = classifier.predict(predict_modified)\n",
    "    if result[0][0] >= 0.5:\n",
    "        prediction = 'dog'\n",
    "        probability = result[0][0]\n",
    "        print (\"probability = \" + str(probability))\n",
    "    else:\n",
    "        prediction = 'cat'\n",
    "        probability = 1 - result[0][0]\n",
    "        print (\"probability = \" + str(probability))\n",
    "        print(\"Prediction = \" + prediction)"
   ]
  },
  {
   "cell_type": "code",
   "execution_count": 17,
   "id": "6cb4ca91",
   "metadata": {},
   "outputs": [
    {
     "name": "stdout",
     "output_type": "stream",
     "text": [
      "probability = 0.727742612361908\n",
      "Prediction = cat\n"
     ]
    }
   ],
   "source": [
    "imagepath = 'F:/School/dog_cat_data/training_set/training_set/cats/cat.63.jpg'\n",
    "predict_image('F:/School/dog_cat_data/training_set/training_set/cats/cat.63.jpg', classifier)"
   ]
  },
  {
   "cell_type": "code",
   "execution_count": null,
   "id": "b702aad4",
   "metadata": {},
   "outputs": [],
   "source": []
  }
 ],
 "metadata": {
  "kernelspec": {
   "display_name": "Python 3",
   "language": "python",
   "name": "python3"
  },
  "language_info": {
   "codemirror_mode": {
    "name": "ipython",
    "version": 3
   },
   "file_extension": ".py",
   "mimetype": "text/x-python",
   "name": "python",
   "nbconvert_exporter": "python",
   "pygments_lexer": "ipython3",
   "version": "3.8.8"
  }
 },
 "nbformat": 4,
 "nbformat_minor": 5
}
