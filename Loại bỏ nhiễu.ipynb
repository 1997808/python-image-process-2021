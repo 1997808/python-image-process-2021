{
 "cells": [
  {
   "cell_type": "code",
   "execution_count": null,
   "id": "e5bd7369",
   "metadata": {},
   "outputs": [],
   "source": [
    "from scipy import ndimage\n",
    "\n",
    "im = reg2gray(imread('data/salt&peppernoise_camera.jqg'))\n",
    "pylab.gray()\n",
    "im_o = ndimage.grey_opening(im, size=(2,2))\n",
    "im_c = ndimage.grey_closing(im, size=(2,2))\n",
    "im_oc = ndimage.grey_closing(ndimage.grey_opening(im, size=(3,3)), size=(3,3))\n",
    "pylab.figure(figsize=(20,20))\n",
    "pylab.subplot(221), pylab.imshow(im), pylab.title('original', size=20), pylab.axis('off')\n",
    "pylab.subplot(222), pylab.imshow(im_o), pylab.title('opening(rm salt)', size=20), pylab.axis('off')\n",
    "pylab.subplot(223), pylab.imshow(im_c), pylab.title('closing(rm pepper)', size=20), pylab.axis('off')\n",
    "pylab.subplot(224), pylab.imshow(im_oc), pylab.title('o and c(rm salt + pepper)', size=20), pylab.axis('off')\n",
    "pylab.axis('off')\n",
    "pylab.show()"
   ]
  }
 ],
 "metadata": {
  "kernelspec": {
   "display_name": "Python 3",
   "language": "python",
   "name": "python3"
  },
  "language_info": {
   "codemirror_mode": {
    "name": "ipython",
    "version": 3
   },
   "file_extension": ".py",
   "mimetype": "text/x-python",
   "name": "python",
   "nbconvert_exporter": "python",
   "pygments_lexer": "ipython3",
   "version": "3.8.8"
  }
 },
 "nbformat": 4,
 "nbformat_minor": 5
}
